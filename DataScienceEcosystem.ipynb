{
 "cells": [
  {
   "cell_type": "markdown",
   "id": "8f96fc64-3d4e-4f73-bd6c-936c2679ba77",
   "metadata": {
    "tags": []
   },
   "source": [
    "# Data Science Tools and Ecosystem"
   ]
  },
  {
   "cell_type": "markdown",
   "id": "701b26d6-6494-4b36-a0f7-e99f1db0f404",
   "metadata": {
    "tags": []
   },
   "source": [
    "In this notebook, Data Science Tools and Ecosystem are summarized."
   ]
  },
  {
   "cell_type": "markdown",
   "id": "af985014-9fee-454a-9fbb-46f5192078b5",
   "metadata": {},
   "source": [
    "**Objectives:**\n",
    "* List popular languages for Data Science\n",
    "* List commonly used libraries used by Data Scientists\n",
    "* List Data Science tools"
   ]
  },
  {
   "cell_type": "markdown",
   "id": "f556bc5c-6757-4865-b773-40986a1984b5",
   "metadata": {},
   "source": [
    "Some of the popular languages that Data Scientists use are:\n",
    "1) Python\n",
    "2) R\n",
    "3) Julia"
   ]
  },
  {
   "cell_type": "markdown",
   "id": "280b6954-092a-4d08-90be-7040a9d1bfe8",
   "metadata": {},
   "source": [
    "Some of the commonly used libraries used by Data Scientists include:\n",
    "1) NumPy\n",
    "2) Pandas\n",
    "3) Scikit-learn"
   ]
  },
  {
   "cell_type": "markdown",
   "id": "e662431d-76fb-4588-8b9b-17f98c54140d",
   "metadata": {},
   "source": [
    "|Data Science Tools|\n",
    "|-|\n",
    "|Jupyter Notebook|\n",
    "|JupyterLab|\n",
    "|VS Code|"
   ]
  },
  {
   "cell_type": "markdown",
   "id": "377649a3-e865-4870-aaa8-5a26150610a9",
   "metadata": {
    "tags": []
   },
   "source": [
    "### Below are a few examples of evaluating arithmetic expressions in Python"
   ]
  },
  {
   "cell_type": "code",
   "execution_count": 1,
   "id": "6ef230e8-7e3e-49bd-8c5a-0775a581f2ce",
   "metadata": {
    "tags": []
   },
   "outputs": [
    {
     "data": {
      "text/plain": [
       "17"
      ]
     },
     "execution_count": 1,
     "metadata": {},
     "output_type": "execute_result"
    }
   ],
   "source": [
    "# This a simple arithmetic expression to mutiply then add integers\n",
    "(3*4)+5"
   ]
  },
  {
   "cell_type": "code",
   "execution_count": 2,
   "id": "42ba35b6-2e75-477b-bc74-ec18186a144b",
   "metadata": {
    "tags": []
   },
   "outputs": [
    {
     "data": {
      "text/plain": [
       "3.3333333333333335"
      ]
     },
     "execution_count": 2,
     "metadata": {},
     "output_type": "execute_result"
    }
   ],
   "source": [
    "# This will convert 200 minutes to hours by diving by 60\n",
    "200/60"
   ]
  },
  {
   "cell_type": "markdown",
   "id": "8fb6260f-1edb-484f-ac1d-6978f133957b",
   "metadata": {},
   "source": [
    "## Author\n",
    "Evgeny Pinigin"
   ]
  },
  {
   "cell_type": "code",
   "execution_count": null,
   "id": "871e4ddc-9ec7-43d0-ac50-01ef0f5f36e4",
   "metadata": {},
   "outputs": [],
   "source": []
  }
 ],
 "metadata": {
  "kernelspec": {
   "display_name": "Python",
   "language": "python",
   "name": "conda-env-python-py"
  },
  "language_info": {
   "codemirror_mode": {
    "name": "ipython",
    "version": 3
   },
   "file_extension": ".py",
   "mimetype": "text/x-python",
   "name": "python",
   "nbconvert_exporter": "python",
   "pygments_lexer": "ipython3",
   "version": "3.7.12"
  }
 },
 "nbformat": 4,
 "nbformat_minor": 5
}
