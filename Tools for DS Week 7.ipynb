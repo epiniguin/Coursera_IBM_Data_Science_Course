{
    "cells": [
        {
            "cell_type": "markdown",
            "metadata": {
                "collapsed": true
            },
            "source": "# My Jupyter Notebook on IBM Watson Studio"
        },
        {
            "cell_type": "markdown",
            "metadata": {},
            "source": "**Evgeny Pinigin**\n\nData Scientist"
        },
        {
            "cell_type": "markdown",
            "metadata": {},
            "source": "*I am interested in data science because it is smart and modern staff.*"
        },
        {
            "cell_type": "markdown",
            "metadata": {},
            "source": "### This code below converts minutes to hours."
        },
        {
            "cell_type": "code",
            "execution_count": 2,
            "metadata": {},
            "outputs": [
                {
                    "name": "stdout",
                    "output_type": "stream",
                    "text": "3.0\n"
                }
            ],
            "source": "minutes = 180\nhours = minutes/60\nprint(hours)"
        },
        {
            "cell_type": "markdown",
            "metadata": {},
            "source": "<center><h3> Data Science programming languages</h3></center>\n\n|Language|\n|-|\n|[![Python](https://upload.wikimedia.org/wikipedia/commons/thumb/c/c3/Python-logo-notext.svg/219px-Python-logo-notext.svg.png)](https://python.org)|\n|[![R](https://upload.wikimedia.org/wikipedia/commons/thumb/1/1b/R_logo.svg/310px-R_logo.svg.png)](https://www.r-project.org/)|\n|[![Julia](https://upload.wikimedia.org/wikipedia/commons/thumb/1/1f/Julia_Programming_Language_Logo.svg/320px-Julia_Programming_Language_Logo.svg.png)](https://julialang.org/)|"
        },
        {
            "cell_type": "code",
            "execution_count": null,
            "metadata": {},
            "outputs": [],
            "source": ""
        }
    ],
    "metadata": {
        "kernelspec": {
            "display_name": "Python 3.10",
            "language": "python",
            "name": "python3"
        },
        "language_info": {
            "codemirror_mode": {
                "name": "ipython",
                "version": 3
            },
            "file_extension": ".py",
            "mimetype": "text/x-python",
            "name": "python",
            "nbconvert_exporter": "python",
            "pygments_lexer": "ipython3",
            "version": "3.10.13"
        }
    },
    "nbformat": 4,
    "nbformat_minor": 1
}